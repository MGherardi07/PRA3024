{
  "nbformat": 4,
  "nbformat_minor": 0,
  "metadata": {
    "colab": {
      "name": "WORKING VERSION:Gravitational_waves_week2",
      "provenance": [],
      "collapsed_sections": []
    },
    "kernelspec": {
      "name": "python3",
      "display_name": "Python 3"
    }
  },
  "cells": [
    {
      "cell_type": "markdown",
      "metadata": {
        "id": "8Rc7bWr2j2EY",
        "colab_type": "text"
      },
      "source": [
        "week 3: GW"
      ]
    },
    {
      "cell_type": "code",
      "metadata": {
        "id": "gnEP6V_Jj1IM",
        "colab_type": "code",
        "colab": {}
      },
      "source": [
        "from math import *\n",
        "import numpy as np\n",
        "import scipy.integrate as integrate"
      ],
      "execution_count": 0,
      "outputs": []
    },
    {
      "cell_type": "code",
      "metadata": {
        "id": "ls-OMYQ9kk6s",
        "colab_type": "code",
        "outputId": "12c246a5-e2af-4738-e4b0-eaa29d128cf4",
        "colab": {
          "base_uri": "https://localhost:8080/",
          "height": 132
        }
      },
      "source": [
        "\n",
        "sqrt=math.sqrt\n",
        "e=math.e\n",
        "pi = math.pi\n",
        "log=math.log\n",
        "m1=10**31\n",
        "m2=10**31\n",
        "#D= #distance to binary\n",
        "#Q= #angles\n",
        "S_0= 3.24*10**8-46 #WHAT IS THIS ???\n",
        "X= 1 #WHAT IS THIS X IN SPECTRAL DENSITY?\n",
        "M=m1+m2\n",
        "eta=m1*m2/M**2\n",
        "Mchrip=eta**(3/5)*M\n",
        "f=500 #integration variable\n",
        "\n",
        "def v(eta, Mchrip):\n",
        "  š=(pi*(G*Mchrip/eta**(3/5))*f)**(1/3) \n",
        "  return š\n",
        "\n",
        "tc= 1 #coalescence time- time when bh start touching #you can take them as 1 as they have 0 dependance on other parameters\n",
        "l_phic= 1 #phase of gw #you can take them as 1 as they have 0 dependance on other parameters\n",
        "\n",
        "fmin, fmax=20, 215 #Hz; given in article\n",
        "f_0= 1 #scaling frequency\n",
        "\n",
        "def f_lso(Mchrip):\n",
        "  return (6**(3/2)*pi*Mchrip)**(-1)*c**3/G\n",
        "\n",
        "def v_lso(Mchrip, f_lso):\n",
        "  return (pi*Mchrip*f_lso)**(1/3) #is a fixed number, you don't have to make it a function\n",
        "\n",
        " 1 #velocity at which 2 stars orbit when they start colliding is NOT fULLY CORRRECT; it is the last point at which approx is ok\n",
        "gamma= 0.5772156649015328606065120900824024310421 #euler mascheroni constant\n",
        "theta= -1.28 #look for it in paper\n",
        "lambd = -0.6451 #given in paper\n",
        "\n",
        "#maybe make this a list and then call each element of the list?\n",
        "alpha=[1, 0]\n",
        "alpha_0 = 1\n",
        "alpha_1 = 0\n",
        "def alpha_2(eta):\n",
        "  return (20/9)*(743/336+11/4 * eta)\n",
        "alpha_3 = -16*pi\n",
        "def alpha_4(eta):\n",
        "  return 10*(3058673/1016064 + 5429/1008 * eta + 617/144 * eta**2)\n",
        "def alpha_5(eta, Mchrip):\n",
        "  return pi * (38645/756 + 38645/252 * log(v(eta, Mchrip)/v_lso) - 65/9 * eta * (1+3*log(v/v_lso))) \n",
        "#alpha_6 = (11583231236531/4694215680 - (640*pi**2/3) - 6848 * gamma/21) + eta (-15335597827/3048192 + 2255*pi**2/12 - 1760*theta/3 + 12320*lambd/9) + (76055/1728*eta**2-eta**3*127825/1296 - 6848/21 * log(4*v))\n",
        "#alpha_7 = pi(77096675/254016+378515*eta/1512-eta**2*74045/756)\n",
        "\n",
        "\n",
        "c=2.99*10**8\n",
        "G=6.67*10**(-11)\n",
        "\n",
        "\n",
        "\n",
        "\n",
        "\n",
        "\n",
        "\n",
        "\n",
        "     #M^(5/6)*Q/D #for comparison, use updated A - ON STUDENT PORTAL THAT'S AN INTEGRAL?\n",
        "parameters=tc, l_phic, eta, Mchrip \n",
        "\n",
        "#sum that goes to phi\n",
        "#k=0\n",
        "#seštevek=0\n",
        "#while i<7:\n",
        "#  for i in alpha:\n",
        "#    seštevek += [i]*v**i\n",
        "#return seštevek\n",
        "\n",
        "\n",
        "#PHI FORMULA\n",
        "def phi (f, parameters):\n",
        "  return 2*pi*f*parameters[0] - parameters[1] - pi/4 + 3/(128*parameters[2]*v**5) * seštevek\n",
        "#GW FORMULA\n",
        "def h(f, parameters):\n",
        "  return A*f**(-7/6)*e**(1j*phi(f, parameters))\n",
        "\n",
        "\n",
        "\n",
        "#power spectral density advanced LIGO\n",
        "def S(f):\n",
        "  x=f/215\n",
        "  S_0=10**(-49)\n",
        "  return (S_0*(x**(-4.14) - 5*x**(-2) + (111*(1 - x**2 + x**4/2))/(1+x**2/2)))\n",
        "f0=215 #the one you input, specific frequency\n",
        "fs=20 #lower bound\n",
        "\n",
        "\n",
        "fu=(((6**(3/2)*pi*Mchrip)**(-1)*(c**3*G**(-1)))) #upper bound\n",
        "print(fu)\n",
        "\n",
        "#try to calculate A?\n",
        "A=sqrt(10/(4*(integrate.quad(lambda x : x**(-7/6)/S(x), fs, fu))[0]))\n",
        "\n",
        "print(A)\n",
        "\n",
        "\n",
        "#try to make partial derivatives\n",
        "def partialderivative(h, f, parameters):\n",
        "  changed_parameters = []\n",
        "  for i in parameters: #takes the actual values of 0, 1, 2, 3rd place\n",
        "    print(i)\n",
        "    changed_parameters.append(i*(1+1/1000))\n",
        "    change_y=-h(*(f, parameters))+h(*(f, changed_parameters))\n",
        "  print(\"change param:\", changed_parameters)\n",
        "  print(\"parameters:\", parameters) #param and changed param are not the same, when substituted in h, h becomes the same\n",
        "  print(\"changed h\", h(*(f, parameters)))\n",
        "  print(\"nonchanged h\", h(*(f, changed_parameters)))\n",
        "  return change_y/(i/1000)\n",
        "print(partialderivative(h, f, parameters)) #function as an argument: how function, parameter, which argument\n",
        "\n",
        "#PRINT\n",
        "print(phi(f, parameters))\n",
        "print(h(f, parameters))\n",
        "\n",
        "#what you yet have to do.\n",
        "#-figure what is function, what is just a number and say that correctly\n",
        "#then derivatives should work\n",
        "#then take an integral to get the matrix-make it a numerical integral (felix has it)\n",
        "#then you can have 1 integral for everything"
      ],
      "execution_count": 0,
      "outputs": [
        {
          "output_type": "error",
          "ename": "IndentationError",
          "evalue": "ignored",
          "traceback": [
            "\u001b[0;36m  File \u001b[0;32m\"<ipython-input-157-1f120e550995>\"\u001b[0;36m, line \u001b[0;32m33\u001b[0m\n\u001b[0;31m    1 #velocity at which 2 stars orbit when they start colliding is NOT fULLY CORRRECT; it is the last point at which approx is ok\u001b[0m\n\u001b[0m                                                                                                                                  ^\u001b[0m\n\u001b[0;31mIndentationError\u001b[0m\u001b[0;31m:\u001b[0m unindent does not match any outer indentation level\n"
          ]
        }
      ]
    },
    {
      "cell_type": "markdown",
      "metadata": {
        "id": "ZGBeQ27gr3TV",
        "colab_type": "text"
      },
      "source": [
        "the following blocks are unnecessary"
      ]
    },
    {
      "cell_type": "code",
      "metadata": {
        "id": "jslu-_iOJl0u",
        "colab_type": "code",
        "colab": {}
      },
      "source": [
        "#def function as a parameter in another function\n",
        "delta_x=1/1000000\n",
        "\n",
        "def partialderivative (h, tc, l_phic, eta, Mchrip):\n",
        "  d_tc = ( h((tc+delta_x), l_phic, eta, Mchrip) - h(tc, l_phic, eta, Mchrip))\n",
        "\n"
      ],
      "execution_count": 0,
      "outputs": []
    },
    {
      "cell_type": "code",
      "metadata": {
        "id": "huoUI0bgcM22",
        "colab_type": "code",
        "colab": {}
      },
      "source": [
        "def h(parameters):\n",
        "  \n",
        "  A=\n",
        "  return A*f**(-7/6)*e**(i*phi(f))\n",
        "\n",
        "parameters = tc, l_phic, eta, Mchrip\n",
        "for i in parameters:\n",
        "  changed_parameters= parameters[i]+i/10000000\n",
        "  change_y=h(parameters)-h(changed_parameters)\n",
        "  return change_y/(i/10000000)\n"
      ],
      "execution_count": 0,
      "outputs": []
    },
    {
      "cell_type": "code",
      "metadata": {
        "id": "NwbL3w4ckODv",
        "colab_type": "code",
        "colab": {}
      },
      "source": [
        "#HOW TO CALCULATE PARTIAL DERIVATIVES\n",
        "def partialderivative (1 paramete): #for h\n",
        "  parameters = tc. l_phic, eta, MASS (10**30 cherg masss, eta 0-1)\n",
        "\n",
        "def partialderivativeconj (parameters): #for h complex conjugate\n",
        "\n"
      ],
      "execution_count": 0,
      "outputs": []
    },
    {
      "cell_type": "code",
      "metadata": {
        "id": "CvFuSaxekOJ6",
        "colab_type": "code",
        "colab": {}
      },
      "source": [
        "#CALCULATE THE INTEGRAL\n",
        "#THERE ARE PARAMETERS**2 OUCOMES-> MAKE IT A MATRIX\n",
        "\n",
        "def GAMMAij (partialderivative, S):\n",
        "  for i in range(3):\n",
        "    for j in range(3):\n",
        "      GAMMAij=4*integral((partialderivative(i)*partialderivativeconj(j)/Sh(f)))df #bounds: 20 215\n",
        "\n",
        "#make a matrix\n",
        "#natural units"
      ],
      "execution_count": 0,
      "outputs": []
    }
  ]
}